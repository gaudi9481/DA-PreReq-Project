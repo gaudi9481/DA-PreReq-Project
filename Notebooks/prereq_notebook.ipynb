{
 "cells": [
  {
   "cell_type": "code",
   "execution_count": 3,
   "id": "71189510",
   "metadata": {},
   "outputs": [
    {
     "name": "stdout",
     "output_type": "stream",
     "text": [
      "Gaudioso Gregorio\n"
     ]
    }
   ],
   "source": [
    "first_name = \"Gaudioso\"\n",
    "last_name = \"Gregorio\"\n",
    "full_name = \"Gaudioso Gregorio\"\n",
    "print(full_name)"
   ]
  },
  {
   "cell_type": "markdown",
   "id": "2c6122e4",
   "metadata": {},
   "source": [
    "Hi! My name is Gaudiioso, but you can call me Gigi for short. I am excited to soak up anything I can from the Data Analysis pathway. I am a Product Support Analyst with my current company and the knowledge from this pathway will help me develop the skills I need to succeed in my role!"
   ]
  }
 ],
 "metadata": {
  "kernelspec": {
   "display_name": "Python 3",
   "language": "python",
   "name": "python3"
  },
  "language_info": {
   "codemirror_mode": {
    "name": "ipython",
    "version": 3
   },
   "file_extension": ".py",
   "mimetype": "text/x-python",
   "name": "python",
   "nbconvert_exporter": "python",
   "pygments_lexer": "ipython3",
   "version": "3.14.0"
  }
 },
 "nbformat": 4,
 "nbformat_minor": 5
}
